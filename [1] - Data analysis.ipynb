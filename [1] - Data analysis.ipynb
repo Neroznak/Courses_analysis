{
 "cells": [
  {
   "cell_type": "markdown",
   "id": "5620f33d",
   "metadata": {},
   "source": [
    "#                                                 DATA ANALYSIS"
   ]
  },
  {
   "cell_type": "markdown",
   "id": "f58505c4",
   "metadata": {},
   "source": [
    "# STEP 1. Problem statement"
   ]
  },
  {
   "cell_type": "markdown",
   "id": "80a30c5c",
   "metadata": {},
   "source": [
    "I have data with the actions of online course users from 2015 to 2018. The goal is to train a model that can predict users' future success on the first two days of the course with high accuracy. So, to train it, we need to collect the right features and information about whether the user finished the last lesson of the course or not. Then use test data - user actions from 2018 to 2019 and evaluate the accuracy of the resulting model."
   ]
  },
  {
   "cell_type": "markdown",
   "id": "fd6eea98",
   "metadata": {},
   "source": [
    "# STEP 2. Load data and import libraries"
   ]
  },
  {
   "cell_type": "code",
   "execution_count": 1,
   "id": "1ec85842",
   "metadata": {},
   "outputs": [
    {
     "data": {
      "text/html": [
       "<div>\n",
       "<style scoped>\n",
       "    .dataframe tbody tr th:only-of-type {\n",
       "        vertical-align: middle;\n",
       "    }\n",
       "\n",
       "    .dataframe tbody tr th {\n",
       "        vertical-align: top;\n",
       "    }\n",
       "\n",
       "    .dataframe thead th {\n",
       "        text-align: right;\n",
       "    }\n",
       "</style>\n",
       "<table border=\"1\" class=\"dataframe\">\n",
       "  <thead>\n",
       "    <tr style=\"text-align: right;\">\n",
       "      <th></th>\n",
       "      <th>step_id</th>\n",
       "      <th>timestamp</th>\n",
       "      <th>action</th>\n",
       "      <th>user_id</th>\n",
       "    </tr>\n",
       "  </thead>\n",
       "  <tbody>\n",
       "    <tr>\n",
       "      <th>0</th>\n",
       "      <td>32815</td>\n",
       "      <td>1434340848</td>\n",
       "      <td>viewed</td>\n",
       "      <td>17632</td>\n",
       "    </tr>\n",
       "    <tr>\n",
       "      <th>1</th>\n",
       "      <td>32815</td>\n",
       "      <td>1434340848</td>\n",
       "      <td>passed</td>\n",
       "      <td>17632</td>\n",
       "    </tr>\n",
       "    <tr>\n",
       "      <th>2</th>\n",
       "      <td>32815</td>\n",
       "      <td>1434340848</td>\n",
       "      <td>discovered</td>\n",
       "      <td>17632</td>\n",
       "    </tr>\n",
       "    <tr>\n",
       "      <th>3</th>\n",
       "      <td>32811</td>\n",
       "      <td>1434340895</td>\n",
       "      <td>discovered</td>\n",
       "      <td>17632</td>\n",
       "    </tr>\n",
       "    <tr>\n",
       "      <th>4</th>\n",
       "      <td>32811</td>\n",
       "      <td>1434340895</td>\n",
       "      <td>viewed</td>\n",
       "      <td>17632</td>\n",
       "    </tr>\n",
       "    <tr>\n",
       "      <th>...</th>\n",
       "      <td>...</td>\n",
       "      <td>...</td>\n",
       "      <td>...</td>\n",
       "      <td>...</td>\n",
       "    </tr>\n",
       "    <tr>\n",
       "      <th>3480698</th>\n",
       "      <td>33375</td>\n",
       "      <td>1526772685</td>\n",
       "      <td>viewed</td>\n",
       "      <td>11677</td>\n",
       "    </tr>\n",
       "    <tr>\n",
       "      <th>3480699</th>\n",
       "      <td>32815</td>\n",
       "      <td>1526772750</td>\n",
       "      <td>viewed</td>\n",
       "      <td>5198</td>\n",
       "    </tr>\n",
       "    <tr>\n",
       "      <th>3480700</th>\n",
       "      <td>32815</td>\n",
       "      <td>1526772750</td>\n",
       "      <td>discovered</td>\n",
       "      <td>5198</td>\n",
       "    </tr>\n",
       "    <tr>\n",
       "      <th>3480701</th>\n",
       "      <td>32815</td>\n",
       "      <td>1526772750</td>\n",
       "      <td>passed</td>\n",
       "      <td>5198</td>\n",
       "    </tr>\n",
       "    <tr>\n",
       "      <th>3480702</th>\n",
       "      <td>33892</td>\n",
       "      <td>1526772811</td>\n",
       "      <td>viewed</td>\n",
       "      <td>18526</td>\n",
       "    </tr>\n",
       "  </tbody>\n",
       "</table>\n",
       "<p>3480703 rows × 4 columns</p>\n",
       "</div>"
      ],
      "text/plain": [
       "         step_id   timestamp      action  user_id\n",
       "0          32815  1434340848      viewed    17632\n",
       "1          32815  1434340848      passed    17632\n",
       "2          32815  1434340848  discovered    17632\n",
       "3          32811  1434340895  discovered    17632\n",
       "4          32811  1434340895      viewed    17632\n",
       "...          ...         ...         ...      ...\n",
       "3480698    33375  1526772685      viewed    11677\n",
       "3480699    32815  1526772750      viewed     5198\n",
       "3480700    32815  1526772750  discovered     5198\n",
       "3480701    32815  1526772750      passed     5198\n",
       "3480702    33892  1526772811      viewed    18526\n",
       "\n",
       "[3480703 rows x 4 columns]"
      ]
     },
     "execution_count": 1,
     "metadata": {},
     "output_type": "execute_result"
    }
   ],
   "source": [
    "import pandas as pd \n",
    "import numpy as np \n",
    "%matplotlib inline\n",
    "import matplotlib.pyplot as plt\n",
    "import seaborn as sns\n",
    "event_data = pd.read_csv(r\"event_data_train.csv\")\n",
    "submission_data = pd.read_csv(r\"submissions_data_train.csv\")\n",
    "event_data"
   ]
  },
  {
   "cell_type": "code",
   "execution_count": 3,
   "id": "99352b81",
   "metadata": {},
   "outputs": [
    {
     "data": {
      "text/html": [
       "<div>\n",
       "<style scoped>\n",
       "    .dataframe tbody tr th:only-of-type {\n",
       "        vertical-align: middle;\n",
       "    }\n",
       "\n",
       "    .dataframe tbody tr th {\n",
       "        vertical-align: top;\n",
       "    }\n",
       "\n",
       "    .dataframe thead th {\n",
       "        text-align: right;\n",
       "    }\n",
       "</style>\n",
       "<table border=\"1\" class=\"dataframe\">\n",
       "  <thead>\n",
       "    <tr style=\"text-align: right;\">\n",
       "      <th></th>\n",
       "      <th>step_id</th>\n",
       "      <th>timestamp</th>\n",
       "      <th>submission_status</th>\n",
       "      <th>user_id</th>\n",
       "    </tr>\n",
       "  </thead>\n",
       "  <tbody>\n",
       "    <tr>\n",
       "      <th>0</th>\n",
       "      <td>31971</td>\n",
       "      <td>1434349275</td>\n",
       "      <td>correct</td>\n",
       "      <td>15853</td>\n",
       "    </tr>\n",
       "    <tr>\n",
       "      <th>1</th>\n",
       "      <td>31972</td>\n",
       "      <td>1434348300</td>\n",
       "      <td>correct</td>\n",
       "      <td>15853</td>\n",
       "    </tr>\n",
       "    <tr>\n",
       "      <th>2</th>\n",
       "      <td>31972</td>\n",
       "      <td>1478852149</td>\n",
       "      <td>wrong</td>\n",
       "      <td>15853</td>\n",
       "    </tr>\n",
       "    <tr>\n",
       "      <th>3</th>\n",
       "      <td>31972</td>\n",
       "      <td>1478852164</td>\n",
       "      <td>correct</td>\n",
       "      <td>15853</td>\n",
       "    </tr>\n",
       "    <tr>\n",
       "      <th>4</th>\n",
       "      <td>31976</td>\n",
       "      <td>1434348123</td>\n",
       "      <td>wrong</td>\n",
       "      <td>15853</td>\n",
       "    </tr>\n",
       "    <tr>\n",
       "      <th>...</th>\n",
       "      <td>...</td>\n",
       "      <td>...</td>\n",
       "      <td>...</td>\n",
       "      <td>...</td>\n",
       "    </tr>\n",
       "    <tr>\n",
       "      <th>509099</th>\n",
       "      <td>120745</td>\n",
       "      <td>1501946959</td>\n",
       "      <td>wrong</td>\n",
       "      <td>2615</td>\n",
       "    </tr>\n",
       "    <tr>\n",
       "      <th>509100</th>\n",
       "      <td>120745</td>\n",
       "      <td>1503059927</td>\n",
       "      <td>correct</td>\n",
       "      <td>13177</td>\n",
       "    </tr>\n",
       "    <tr>\n",
       "      <th>509101</th>\n",
       "      <td>120745</td>\n",
       "      <td>1506348153</td>\n",
       "      <td>wrong</td>\n",
       "      <td>15253</td>\n",
       "    </tr>\n",
       "    <tr>\n",
       "      <th>509102</th>\n",
       "      <td>120745</td>\n",
       "      <td>1523035316</td>\n",
       "      <td>wrong</td>\n",
       "      <td>1424</td>\n",
       "    </tr>\n",
       "    <tr>\n",
       "      <th>509103</th>\n",
       "      <td>120745</td>\n",
       "      <td>1523382825</td>\n",
       "      <td>wrong</td>\n",
       "      <td>9422</td>\n",
       "    </tr>\n",
       "  </tbody>\n",
       "</table>\n",
       "<p>509104 rows × 4 columns</p>\n",
       "</div>"
      ],
      "text/plain": [
       "        step_id   timestamp submission_status  user_id\n",
       "0         31971  1434349275           correct    15853\n",
       "1         31972  1434348300           correct    15853\n",
       "2         31972  1478852149             wrong    15853\n",
       "3         31972  1478852164           correct    15853\n",
       "4         31976  1434348123             wrong    15853\n",
       "...         ...         ...               ...      ...\n",
       "509099   120745  1501946959             wrong     2615\n",
       "509100   120745  1503059927           correct    13177\n",
       "509101   120745  1506348153             wrong    15253\n",
       "509102   120745  1523035316             wrong     1424\n",
       "509103   120745  1523382825             wrong     9422\n",
       "\n",
       "[509104 rows x 4 columns]"
      ]
     },
     "execution_count": 3,
     "metadata": {},
     "output_type": "execute_result"
    }
   ],
   "source": [
    "submission_data"
   ]
  },
  {
   "cell_type": "markdown",
   "id": "a10173c2",
   "metadata": {},
   "source": [
    "# STEP 3. See the possible values for all nominal variables"
   ]
  },
  {
   "cell_type": "code",
   "execution_count": 4,
   "id": "e2dc00c2",
   "metadata": {},
   "outputs": [
    {
     "data": {
      "text/plain": [
       "array(['viewed', 'passed', 'discovered', 'started_attempt'], dtype=object)"
      ]
     },
     "execution_count": 4,
     "metadata": {},
     "output_type": "execute_result"
    }
   ],
   "source": [
    "event_data.action.unique()"
   ]
  },
  {
   "cell_type": "code",
   "execution_count": 5,
   "id": "24a2b121",
   "metadata": {},
   "outputs": [
    {
     "data": {
      "text/plain": [
       "array(['correct', 'wrong'], dtype=object)"
      ]
     },
     "execution_count": 5,
     "metadata": {},
     "output_type": "execute_result"
    }
   ],
   "source": [
    "submission_data.submission_status.unique()"
   ]
  },
  {
   "cell_type": "markdown",
   "id": "9da7331a",
   "metadata": {},
   "source": [
    "# STEP 4. Look at the data"
   ]
  },
  {
   "cell_type": "markdown",
   "id": "22696c6e",
   "metadata": {},
   "source": [
    "4.1 Type of variables."
   ]
  },
  {
   "cell_type": "code",
   "execution_count": 6,
   "id": "afa3872d",
   "metadata": {},
   "outputs": [
    {
     "data": {
      "text/plain": [
       "step_id               int64\n",
       "timestamp             int64\n",
       "submission_status    object\n",
       "user_id               int64\n",
       "dtype: object"
      ]
     },
     "execution_count": 6,
     "metadata": {},
     "output_type": "execute_result"
    }
   ],
   "source": [
    "submission_data.dtypes"
   ]
  },
  {
   "cell_type": "code",
   "execution_count": 7,
   "id": "e656d997",
   "metadata": {},
   "outputs": [
    {
     "data": {
      "text/plain": [
       "step_id       int64\n",
       "timestamp     int64\n",
       "action       object\n",
       "user_id       int64\n",
       "dtype: object"
      ]
     },
     "execution_count": 7,
     "metadata": {},
     "output_type": "execute_result"
    }
   ],
   "source": [
    "event_data.dtypes"
   ]
  },
  {
   "cell_type": "markdown",
   "id": "1f267b24",
   "metadata": {},
   "source": [
    "Now we can conclude that numeric values have the int64 data type, which simplifies working with them. Some columns have data type object, it is worth to pay attention to it"
   ]
  },
  {
   "cell_type": "markdown",
   "id": "42eac08e",
   "metadata": {},
   "source": [
    "4.2 Data size"
   ]
  },
  {
   "cell_type": "code",
   "execution_count": 8,
   "id": "9275b87e",
   "metadata": {},
   "outputs": [
    {
     "data": {
      "text/plain": [
       "(509104, 4)"
      ]
     },
     "execution_count": 8,
     "metadata": {},
     "output_type": "execute_result"
    }
   ],
   "source": [
    "submission_data.shape"
   ]
  },
  {
   "cell_type": "code",
   "execution_count": 9,
   "id": "71b61bb0",
   "metadata": {},
   "outputs": [
    {
     "data": {
      "text/plain": [
       "(3480703, 4)"
      ]
     },
     "execution_count": 9,
     "metadata": {},
     "output_type": "execute_result"
    }
   ],
   "source": [
    "event_data.shape"
   ]
  },
  {
   "cell_type": "markdown",
   "id": "2d1444b5",
   "metadata": {},
   "source": [
    "The dataset event_data is noticeably larger than submission_data. This is easy to explain, because any user action is added to event_data, while submission_data contains only attempts to complete the task"
   ]
  },
  {
   "cell_type": "markdown",
   "id": "8238a490",
   "metadata": {},
   "source": [
    "4.3 Data describes."
   ]
  },
  {
   "cell_type": "code",
   "execution_count": 10,
   "id": "679e80ef",
   "metadata": {},
   "outputs": [
    {
     "data": {
      "text/html": [
       "<div>\n",
       "<style scoped>\n",
       "    .dataframe tbody tr th:only-of-type {\n",
       "        vertical-align: middle;\n",
       "    }\n",
       "\n",
       "    .dataframe tbody tr th {\n",
       "        vertical-align: top;\n",
       "    }\n",
       "\n",
       "    .dataframe thead th {\n",
       "        text-align: right;\n",
       "    }\n",
       "</style>\n",
       "<table border=\"1\" class=\"dataframe\">\n",
       "  <thead>\n",
       "    <tr style=\"text-align: right;\">\n",
       "      <th></th>\n",
       "      <th>step_id</th>\n",
       "      <th>timestamp</th>\n",
       "      <th>user_id</th>\n",
       "    </tr>\n",
       "  </thead>\n",
       "  <tbody>\n",
       "    <tr>\n",
       "      <th>count</th>\n",
       "      <td>509104.000000</td>\n",
       "      <td>5.091040e+05</td>\n",
       "      <td>509104.000000</td>\n",
       "    </tr>\n",
       "    <tr>\n",
       "      <th>mean</th>\n",
       "      <td>33732.591433</td>\n",
       "      <td>1.480582e+09</td>\n",
       "      <td>13198.874945</td>\n",
       "    </tr>\n",
       "    <tr>\n",
       "      <th>std</th>\n",
       "      <td>9379.377465</td>\n",
       "      <td>3.097267e+07</td>\n",
       "      <td>7820.240678</td>\n",
       "    </tr>\n",
       "    <tr>\n",
       "      <th>min</th>\n",
       "      <td>31971.000000</td>\n",
       "      <td>1.434341e+09</td>\n",
       "      <td>2.000000</td>\n",
       "    </tr>\n",
       "    <tr>\n",
       "      <th>25%</th>\n",
       "      <td>32031.000000</td>\n",
       "      <td>1.449950e+09</td>\n",
       "      <td>6431.000000</td>\n",
       "    </tr>\n",
       "    <tr>\n",
       "      <th>50%</th>\n",
       "      <td>32763.000000</td>\n",
       "      <td>1.484339e+09</td>\n",
       "      <td>13082.000000</td>\n",
       "    </tr>\n",
       "    <tr>\n",
       "      <th>75%</th>\n",
       "      <td>33481.000000</td>\n",
       "      <td>1.508326e+09</td>\n",
       "      <td>19985.000000</td>\n",
       "    </tr>\n",
       "    <tr>\n",
       "      <th>max</th>\n",
       "      <td>120745.000000</td>\n",
       "      <td>1.526771e+09</td>\n",
       "      <td>26798.000000</td>\n",
       "    </tr>\n",
       "  </tbody>\n",
       "</table>\n",
       "</div>"
      ],
      "text/plain": [
       "             step_id     timestamp        user_id\n",
       "count  509104.000000  5.091040e+05  509104.000000\n",
       "mean    33732.591433  1.480582e+09   13198.874945\n",
       "std      9379.377465  3.097267e+07    7820.240678\n",
       "min     31971.000000  1.434341e+09       2.000000\n",
       "25%     32031.000000  1.449950e+09    6431.000000\n",
       "50%     32763.000000  1.484339e+09   13082.000000\n",
       "75%     33481.000000  1.508326e+09   19985.000000\n",
       "max    120745.000000  1.526771e+09   26798.000000"
      ]
     },
     "execution_count": 10,
     "metadata": {},
     "output_type": "execute_result"
    }
   ],
   "source": [
    "submission_data.describe()"
   ]
  },
  {
   "cell_type": "code",
   "execution_count": 11,
   "id": "502913ab",
   "metadata": {},
   "outputs": [
    {
     "data": {
      "text/html": [
       "<div>\n",
       "<style scoped>\n",
       "    .dataframe tbody tr th:only-of-type {\n",
       "        vertical-align: middle;\n",
       "    }\n",
       "\n",
       "    .dataframe tbody tr th {\n",
       "        vertical-align: top;\n",
       "    }\n",
       "\n",
       "    .dataframe thead th {\n",
       "        text-align: right;\n",
       "    }\n",
       "</style>\n",
       "<table border=\"1\" class=\"dataframe\">\n",
       "  <thead>\n",
       "    <tr style=\"text-align: right;\">\n",
       "      <th></th>\n",
       "      <th>step_id</th>\n",
       "      <th>timestamp</th>\n",
       "      <th>user_id</th>\n",
       "    </tr>\n",
       "  </thead>\n",
       "  <tbody>\n",
       "    <tr>\n",
       "      <th>count</th>\n",
       "      <td>3.480703e+06</td>\n",
       "      <td>3.480703e+06</td>\n",
       "      <td>3.480703e+06</td>\n",
       "    </tr>\n",
       "    <tr>\n",
       "      <th>mean</th>\n",
       "      <td>3.487358e+04</td>\n",
       "      <td>1.480288e+09</td>\n",
       "      <td>1.331468e+04</td>\n",
       "    </tr>\n",
       "    <tr>\n",
       "      <th>std</th>\n",
       "      <td>1.422243e+04</td>\n",
       "      <td>3.068906e+07</td>\n",
       "      <td>7.779099e+03</td>\n",
       "    </tr>\n",
       "    <tr>\n",
       "      <th>min</th>\n",
       "      <td>3.045600e+04</td>\n",
       "      <td>1.434341e+09</td>\n",
       "      <td>1.000000e+00</td>\n",
       "    </tr>\n",
       "    <tr>\n",
       "      <th>25%</th>\n",
       "      <td>3.217900e+04</td>\n",
       "      <td>1.450271e+09</td>\n",
       "      <td>6.642000e+03</td>\n",
       "    </tr>\n",
       "    <tr>\n",
       "      <th>50%</th>\n",
       "      <td>3.292900e+04</td>\n",
       "      <td>1.483904e+09</td>\n",
       "      <td>1.320800e+04</td>\n",
       "    </tr>\n",
       "    <tr>\n",
       "      <th>75%</th>\n",
       "      <td>3.348100e+04</td>\n",
       "      <td>1.507889e+09</td>\n",
       "      <td>2.014400e+04</td>\n",
       "    </tr>\n",
       "    <tr>\n",
       "      <th>max</th>\n",
       "      <td>1.584330e+05</td>\n",
       "      <td>1.526773e+09</td>\n",
       "      <td>2.679800e+04</td>\n",
       "    </tr>\n",
       "  </tbody>\n",
       "</table>\n",
       "</div>"
      ],
      "text/plain": [
       "            step_id     timestamp       user_id\n",
       "count  3.480703e+06  3.480703e+06  3.480703e+06\n",
       "mean   3.487358e+04  1.480288e+09  1.331468e+04\n",
       "std    1.422243e+04  3.068906e+07  7.779099e+03\n",
       "min    3.045600e+04  1.434341e+09  1.000000e+00\n",
       "25%    3.217900e+04  1.450271e+09  6.642000e+03\n",
       "50%    3.292900e+04  1.483904e+09  1.320800e+04\n",
       "75%    3.348100e+04  1.507889e+09  2.014400e+04\n",
       "max    1.584330e+05  1.526773e+09  2.679800e+04"
      ]
     },
     "execution_count": 11,
     "metadata": {},
     "output_type": "execute_result"
    }
   ],
   "source": [
    "event_data.describe()"
   ]
  },
  {
   "cell_type": "markdown",
   "id": "f312dec3",
   "metadata": {},
   "source": [
    "The description does not give any information because in this case the numeric variables are not quantitative variables"
   ]
  },
  {
   "cell_type": "markdown",
   "id": "790c922e",
   "metadata": {},
   "source": [
    "4.4 Checking empty values"
   ]
  },
  {
   "cell_type": "code",
   "execution_count": 12,
   "id": "8517ecb1",
   "metadata": {},
   "outputs": [
    {
     "data": {
      "text/plain": [
       "step_id      0\n",
       "timestamp    0\n",
       "action       0\n",
       "user_id      0\n",
       "dtype: int64"
      ]
     },
     "execution_count": 12,
     "metadata": {},
     "output_type": "execute_result"
    }
   ],
   "source": [
    "event_data.isnull().sum()"
   ]
  },
  {
   "cell_type": "code",
   "execution_count": 13,
   "id": "151d1fb5",
   "metadata": {},
   "outputs": [
    {
     "data": {
      "text/plain": [
       "step_id              0\n",
       "timestamp            0\n",
       "submission_status    0\n",
       "user_id              0\n",
       "dtype: int64"
      ]
     },
     "execution_count": 13,
     "metadata": {},
     "output_type": "execute_result"
    }
   ],
   "source": [
    "submission_data.isnull().sum()"
   ]
  },
  {
   "cell_type": "markdown",
   "id": "b9bd7dc0",
   "metadata": {},
   "source": [
    "In this case, all the data are filled in, which means applying gap-filling options such as using mean values or using additional machine learning models to predict missing values will not be necessary."
   ]
  },
  {
   "cell_type": "markdown",
   "id": "ded43ca5",
   "metadata": {},
   "source": [
    "# STEP 5. Visualisation"
   ]
  },
  {
   "cell_type": "markdown",
   "id": "cd5c90fd",
   "metadata": {},
   "source": [
    "In this case only timestamps can be an interesting numerical quantity; let's construct a histogram of the time distribution and verify that most of the actions were performed when the course was opened."
   ]
  },
  {
   "cell_type": "code",
   "execution_count": 14,
   "id": "936fce2a",
   "metadata": {},
   "outputs": [
    {
     "data": {
      "text/plain": [
       "<Axes: >"
      ]
     },
     "execution_count": 14,
     "metadata": {},
     "output_type": "execute_result"
    },
    {
     "data": {
      "image/png": "[encoded data removed]",
      "text/plain": [
       "<Figure size 640x480 with 1 Axes>"
      ]
     },
     "metadata": {},
     "output_type": "display_data"
    }
   ],
   "source": [
    "submission_data.timestamp.hist()"
   ]
  },
  {
   "cell_type": "code",
   "execution_count": 15,
   "id": "b0a0cecf",
   "metadata": {},
   "outputs": [
    {
     "data": {
      "text/plain": [
       "<Axes: >"
      ]
     },
     "execution_count": 15,
     "metadata": {},
     "output_type": "execute_result"
    },
    {
     "data": {
      "image/png": "[encoded data removed]",
      "text/plain": [
       "<Figure size 640x480 with 1 Axes>"
      ]
     },
     "metadata": {},
     "output_type": "display_data"
    }
   ],
   "source": [
    "event_data.timestamp.hist()"
   ]
  },
  {
   "cell_type": "markdown",
   "id": "93fa0db8",
   "metadata": {},
   "source": [
    "From these histograms we can conclude that the interest in the course was maximum in the first months of its existence, but after a sharp drop relative to the first time, the interest in the course slowly increased"
   ]
  },
  {
   "cell_type": "markdown",
   "id": "d43cbabf",
   "metadata": {},
   "source": [
    "# STEP 6. Data grouping"
   ]
  },
  {
   "cell_type": "markdown",
   "id": "c49c33ec",
   "metadata": {},
   "source": [
    "6.1 See how many entries there were for the different action categories"
   ]
  },
  {
   "cell_type": "code",
   "execution_count": 18,
   "id": "d0121287",
   "metadata": {},
   "outputs": [
    {
     "data": {
      "text/html": [
       "<div>\n",
       "<style scoped>\n",
       "    .dataframe tbody tr th:only-of-type {\n",
       "        vertical-align: middle;\n",
       "    }\n",
       "\n",
       "    .dataframe tbody tr th {\n",
       "        vertical-align: top;\n",
       "    }\n",
       "\n",
       "    .dataframe thead th {\n",
       "        text-align: right;\n",
       "    }\n",
       "</style>\n",
       "<table border=\"1\" class=\"dataframe\">\n",
       "  <thead>\n",
       "    <tr style=\"text-align: right;\">\n",
       "      <th></th>\n",
       "      <th>step_id</th>\n",
       "      <th>timestamp</th>\n",
       "      <th>user_id</th>\n",
       "    </tr>\n",
       "    <tr>\n",
       "      <th>action</th>\n",
       "      <th></th>\n",
       "      <th></th>\n",
       "      <th></th>\n",
       "    </tr>\n",
       "  </thead>\n",
       "  <tbody>\n",
       "    <tr>\n",
       "      <th>discovered</th>\n",
       "      <td>689495</td>\n",
       "      <td>689495</td>\n",
       "      <td>689495</td>\n",
       "    </tr>\n",
       "    <tr>\n",
       "      <th>passed</th>\n",
       "      <td>650331</td>\n",
       "      <td>650331</td>\n",
       "      <td>650331</td>\n",
       "    </tr>\n",
       "    <tr>\n",
       "      <th>started_attempt</th>\n",
       "      <td>310047</td>\n",
       "      <td>310047</td>\n",
       "      <td>310047</td>\n",
       "    </tr>\n",
       "    <tr>\n",
       "      <th>viewed</th>\n",
       "      <td>1830830</td>\n",
       "      <td>1830830</td>\n",
       "      <td>1830830</td>\n",
       "    </tr>\n",
       "  </tbody>\n",
       "</table>\n",
       "</div>"
      ],
      "text/plain": [
       "                 step_id  timestamp  user_id\n",
       "action                                      \n",
       "discovered        689495     689495   689495\n",
       "passed            650331     650331   650331\n",
       "started_attempt   310047     310047   310047\n",
       "viewed           1830830    1830830  1830830"
      ]
     },
     "execution_count": 18,
     "metadata": {},
     "output_type": "execute_result"
    }
   ],
   "source": [
    "event_data.groupby('action').count()"
   ]
  },
  {
   "cell_type": "markdown",
   "id": "74f68ca9",
   "metadata": {},
   "source": [
    "We notice that people view the task most of all, and make fewer attempts to start solving the task. It can be seen that the number of passed tasks is more than twice the number of started_attempt. An explanation is needed here. This course was posted on stepic.org. On this site all courses are divided into steps. These can be tasks, video lectures and theoretical reference. Each step studied is counted as passed, while started_attempt is valid only for tasks."
   ]
  },
  {
   "cell_type": "markdown",
   "id": "fb90fc2d",
   "metadata": {},
   "source": [
    "6.2 Now let's see how the incorrect and correct attempts are distributed."
   ]
  },
  {
   "cell_type": "code",
   "execution_count": 19,
   "id": "79abc233",
   "metadata": {},
   "outputs": [
    {
     "data": {
      "text/html": [
       "<div>\n",
       "<style scoped>\n",
       "    .dataframe tbody tr th:only-of-type {\n",
       "        vertical-align: middle;\n",
       "    }\n",
       "\n",
       "    .dataframe tbody tr th {\n",
       "        vertical-align: top;\n",
       "    }\n",
       "\n",
       "    .dataframe thead th {\n",
       "        text-align: right;\n",
       "    }\n",
       "</style>\n",
       "<table border=\"1\" class=\"dataframe\">\n",
       "  <thead>\n",
       "    <tr style=\"text-align: right;\">\n",
       "      <th></th>\n",
       "      <th>step_id</th>\n",
       "      <th>timestamp</th>\n",
       "      <th>user_id</th>\n",
       "    </tr>\n",
       "    <tr>\n",
       "      <th>submission_status</th>\n",
       "      <th></th>\n",
       "      <th></th>\n",
       "      <th></th>\n",
       "    </tr>\n",
       "  </thead>\n",
       "  <tbody>\n",
       "    <tr>\n",
       "      <th>correct</th>\n",
       "      <td>222705</td>\n",
       "      <td>222705</td>\n",
       "      <td>222705</td>\n",
       "    </tr>\n",
       "    <tr>\n",
       "      <th>wrong</th>\n",
       "      <td>286399</td>\n",
       "      <td>286399</td>\n",
       "      <td>286399</td>\n",
       "    </tr>\n",
       "  </tbody>\n",
       "</table>\n",
       "</div>"
      ],
      "text/plain": [
       "                   step_id  timestamp  user_id\n",
       "submission_status                             \n",
       "correct             222705     222705   222705\n",
       "wrong               286399     286399   286399"
      ]
     },
     "execution_count": 19,
     "metadata": {},
     "output_type": "execute_result"
    }
   ],
   "source": [
    "submission_data.groupby('submission_status').count()"
   ]
  },
  {
   "cell_type": "markdown",
   "id": "5d915a40",
   "metadata": {},
   "source": [
    "Now let's see how the incorrect and correct attempts are distributed. Surprisingly, the number is mostly the same. This indicates the \"difficulty\" of the course as a whole. Each task is solved on average by a user in two attempts. However, it should be noted that one user can complete the step several times if he/she decides to optimize his/her answer."
   ]
  },
  {
   "cell_type": "markdown",
   "id": "481299aa",
   "metadata": {},
   "source": [
    "# STEP 7. Data correctness check"
   ]
  },
  {
   "cell_type": "markdown",
   "id": "bc5e6f7d",
   "metadata": {},
   "source": [
    "7.1 In this case, how to check the correctness of the data? In the first dataset we have user actions on the site. It would be logical to see how \"real\" these labels seem to be. For example, one user is unlikely to click \"started_attempt\" in several tasks at the same time. Let's see the time differences:"
   ]
  },
  {
   "cell_type": "code",
   "execution_count": 81,
   "id": "e4416c28",
   "metadata": {},
   "outputs": [
    {
     "data": {
      "text/plain": [
       "array([ 1,  2,  5,  3, 10,  4,  6, 21,  9,  7,  8], dtype=int64)"
      ]
     },
     "execution_count": 81,
     "metadata": {},
     "output_type": "execute_result"
    }
   ],
   "source": [
    "event_data['date'] = pd.to_datetime(event_data.timestamp, unit ='s')\n",
    "started_attempt = event_data.loc[(event_data.action == 'started_attempt')]\n",
    "combinations = started_attempt.groupby(['timestamp', 'user_id','step_id']).size().reset_index()\n",
    "combinations = combinations.rename(columns={0:'count'})\n",
    "combinations['count'].unique()"
   ]
  },
  {
   "cell_type": "code",
   "execution_count": 75,
   "id": "1dbcfb94",
   "metadata": {},
   "outputs": [
    {
     "data": {
      "text/html": [
       "<div>\n",
       "<style scoped>\n",
       "    .dataframe tbody tr th:only-of-type {\n",
       "        vertical-align: middle;\n",
       "    }\n",
       "\n",
       "    .dataframe tbody tr th {\n",
       "        vertical-align: top;\n",
       "    }\n",
       "\n",
       "    .dataframe thead th {\n",
       "        text-align: right;\n",
       "    }\n",
       "</style>\n",
       "<table border=\"1\" class=\"dataframe\">\n",
       "  <thead>\n",
       "    <tr style=\"text-align: right;\">\n",
       "      <th></th>\n",
       "      <th>timestamp</th>\n",
       "      <th>user_id</th>\n",
       "      <th>step_id</th>\n",
       "      <th>count</th>\n",
       "    </tr>\n",
       "  </thead>\n",
       "  <tbody>\n",
       "    <tr>\n",
       "      <th>132208</th>\n",
       "      <td>1476303938</td>\n",
       "      <td>7172</td>\n",
       "      <td>32198</td>\n",
       "      <td>21</td>\n",
       "    </tr>\n",
       "  </tbody>\n",
       "</table>\n",
       "</div>"
      ],
      "text/plain": [
       "         timestamp  user_id  step_id  count\n",
       "132208  1476303938     7172    32198     21"
      ]
     },
     "execution_count": 75,
     "metadata": {},
     "output_type": "execute_result"
    }
   ],
   "source": [
    "combinations.loc[combinations['count']==21]"
   ]
  },
  {
   "cell_type": "code",
   "execution_count": 76,
   "id": "d1316dd9",
   "metadata": {},
   "outputs": [
    {
     "data": {
      "text/html": [
       "<div>\n",
       "<style scoped>\n",
       "    .dataframe tbody tr th:only-of-type {\n",
       "        vertical-align: middle;\n",
       "    }\n",
       "\n",
       "    .dataframe tbody tr th {\n",
       "        vertical-align: top;\n",
       "    }\n",
       "\n",
       "    .dataframe thead th {\n",
       "        text-align: right;\n",
       "    }\n",
       "</style>\n",
       "<table border=\"1\" class=\"dataframe\">\n",
       "  <thead>\n",
       "    <tr style=\"text-align: right;\">\n",
       "      <th></th>\n",
       "      <th>timestamp</th>\n",
       "      <th>user_id</th>\n",
       "      <th>step_id</th>\n",
       "      <th>count</th>\n",
       "    </tr>\n",
       "  </thead>\n",
       "  <tbody>\n",
       "    <tr>\n",
       "      <th>94039</th>\n",
       "      <td>1459414235</td>\n",
       "      <td>15384</td>\n",
       "      <td>32198</td>\n",
       "      <td>10</td>\n",
       "    </tr>\n",
       "  </tbody>\n",
       "</table>\n",
       "</div>"
      ],
      "text/plain": [
       "        timestamp  user_id  step_id  count\n",
       "94039  1459414235    15384    32198     10"
      ]
     },
     "execution_count": 76,
     "metadata": {},
     "output_type": "execute_result"
    }
   ],
   "source": [
    "combinations.loc[combinations['count']==10]"
   ]
  },
  {
   "cell_type": "markdown",
   "id": "1dbadde7",
   "metadata": {},
   "source": [
    "As you can see, there are some oddities in the data. However, such simultaneous actions should not affect the solution of my problem. "
   ]
  },
  {
   "cell_type": "markdown",
   "id": "cc944f8d",
   "metadata": {},
   "source": [
    "7.2 Now I will perform a similar check for submission_data. This specifies at what moment a person submits a task. In fact, it is impossible to submit 2 tasks at the same time. Even if you know the correct answers, it should take some seconds. Let's check it:"
   ]
  },
  {
   "cell_type": "code",
   "execution_count": 82,
   "id": "e8e37a7f",
   "metadata": {},
   "outputs": [
    {
     "data": {
      "text/plain": [
       "array([1, 3, 2, 6], dtype=int64)"
      ]
     },
     "execution_count": 82,
     "metadata": {},
     "output_type": "execute_result"
    }
   ],
   "source": [
    "submission_data['date'] = pd.to_datetime(submission_data.timestamp, unit ='s')\n",
    "combinations_for_submission = submission_data.groupby(['timestamp', 'user_id','step_id']).size().reset_index()\n",
    "combinations_for_submission = combinations_for_submission.rename(columns={0:'count'})\n",
    "combinations_for_submission['count'].unique()"
   ]
  },
  {
   "cell_type": "code",
   "execution_count": 84,
   "id": "67ff2c83",
   "metadata": {},
   "outputs": [
    {
     "data": {
      "text/html": [
       "<div>\n",
       "<style scoped>\n",
       "    .dataframe tbody tr th:only-of-type {\n",
       "        vertical-align: middle;\n",
       "    }\n",
       "\n",
       "    .dataframe tbody tr th {\n",
       "        vertical-align: top;\n",
       "    }\n",
       "\n",
       "    .dataframe thead th {\n",
       "        text-align: right;\n",
       "    }\n",
       "</style>\n",
       "<table border=\"1\" class=\"dataframe\">\n",
       "  <thead>\n",
       "    <tr style=\"text-align: right;\">\n",
       "      <th></th>\n",
       "      <th>timestamp</th>\n",
       "      <th>user_id</th>\n",
       "      <th>step_id</th>\n",
       "      <th>count</th>\n",
       "    </tr>\n",
       "  </thead>\n",
       "  <tbody>\n",
       "    <tr>\n",
       "      <th>288939</th>\n",
       "      <td>1491590313</td>\n",
       "      <td>21158</td>\n",
       "      <td>31972</td>\n",
       "      <td>6</td>\n",
       "    </tr>\n",
       "  </tbody>\n",
       "</table>\n",
       "</div>"
      ],
      "text/plain": [
       "         timestamp  user_id  step_id  count\n",
       "288939  1491590313    21158    31972      6"
      ]
     },
     "execution_count": 84,
     "metadata": {},
     "output_type": "execute_result"
    }
   ],
   "source": [
    "combinations_for_submission.loc[combinations_for_submission['count']==6]"
   ]
  },
  {
   "cell_type": "markdown",
   "id": "c7a7d857",
   "metadata": {},
   "source": [
    "Again we see strange examples. But as we said earlier, these oddities should not affect the result of learning"
   ]
  },
  {
   "cell_type": "markdown",
   "id": "cca095fc",
   "metadata": {},
   "source": [
    "# STEP 8. CONCLUSION"
   ]
  },
  {
   "cell_type": "raw",
   "id": "012b0fc8",
   "metadata": {},
   "source": [
    "1 - I understood what data I was working with, I uncovered all the nominal variables\n",
    "2 - I checked that there are no omissions. By data type - there is one \"letter variable\" each - a convenient nominative variable. And also one quantitative variable each - I will take timestamp, step_id and user_id as rank variables. Users will be taken as id, and steps will not be important. So the main work will be with timestamp and nominative variables of each database.\n",
    "3 - Graphs - since only one variable is quantitative, and the rest are rank and nominative, it is difficult to orient on graphs. Even the quantitative variable itself is not particularly demonstrative. Nevertheless, it can be concluded that most of the available research took place at the very beginning of course discovery\n",
    "4 - From the groupings I was able to conclude that there were about 26,000 attempts to solve the problem. In this case, every second attempt to submit the correct answer was successful\n",
    "5 - The data is very specific. Because most of it is from the first month of the course - there are some strange values in the data. This may affect the accuracy of the models\n",
    "7 - Based on the data I can assume that the following features will be needed:\n",
    "how many lessons were successfully completed\n",
    "how many erroneous attempts the user made\n",
    "how much time the user spends on tasks\n",
    "how many steps he has watched\n",
    "whether or not he/she practiced all of the first two days"
   ]
  }
 ],
 "metadata": {
  "kernelspec": {
   "display_name": "GPU",
   "language": "python",
   "name": "gpu_env"
  },
  "language_info": {
   "codemirror_mode": {
    "name": "ipython",
    "version": 3
   },
   "file_extension": ".py",
   "mimetype": "text/x-python",
   "name": "python",
   "nbconvert_exporter": "python",
   "pygments_lexer": "ipython3",
   "version": "3.10.11"
  }
 },
 "nbformat": 4,
 "nbformat_minor": 5
}
